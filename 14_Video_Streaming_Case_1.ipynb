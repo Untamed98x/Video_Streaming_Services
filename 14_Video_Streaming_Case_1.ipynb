{
 "cells": [
  {
   "cell_type": "markdown",
   "metadata": {},
   "source": [
    "# Streaming Site Project - PacFlix\n",
    "\n",
    "- PacFlix Layanan Streaming"
   ]
  },
  {
   "cell_type": "markdown",
   "metadata": {},
   "source": [
    "## A. Case Description\n"
   ]
  },
  {
   "cell_type": "markdown",
   "metadata": {},
   "source": [
    "____\n",
    "### Punya 3 Plan\n",
    "- Basic Plan\n",
    "- Standar Plan\n",
    "- Premium Plan"
   ]
  },
  {
   "cell_type": "markdown",
   "metadata": {},
   "source": [
    "| Basic Plan | Standar Plan | Premium Plan | Service                                          |\n",
    "|------------|--------------|--------------|--------------------------------------------------|\n",
    "| yes        | yes          | yes          | Can Stream                                       |\n",
    "| yes        | yes          | yes          | Can Download                                     |\n",
    "| yes        | yes          | yes          | Has SD                                           |\n",
    "|            | yes          | yes          | Has HD                                           |\n",
    "|            |              | yes          | Has UHD                                          |\n",
    "| 1          | 2            | 4            | num_of_Device                                    |\n",
    "| 3rd Party Movies Only | Basic Plan + Sports (F1, Football, Basketball) | Basic Plan + Standard Plan + PacFlix Original Series or Movie | content |\n",
    "| 120000     | 1600000      | 200000       | price                                            |\n"
   ]
  },
  {
   "cell_type": "markdown",
   "metadata": {},
   "source": [
    "### User Upgrade Rules\n",
    "- user PacFlix hanya bisa memilih satu dari plan yang disediakan\n",
    "- user hanya bisa upgrade plan, tidak bisa downgrade\n",
    "- user bisa Upgrade dari curent plan ke plan keatasnya"
   ]
  },
  {
   "cell_type": "markdown",
   "metadata": {},
   "source": [
    "### Discount Plan\n",
    "- Jika user yang memiliki duration plan diatas > 12 Bulan dan ingin Upgrade Plan maka akan mendapat diskon 5%\n",
    "\n",
    "Example\n",
    "- Yudha saat ini berlangganan \n",
    "- sudah berlangganan selama 13 Bulan\n",
    "- Rencana upgrade ke \"standard plan\"\n",
    "- maka jumlah uang harus dibayar adalah\n",
    "\n",
    "Total = 160.000 -(160.000*0.05)=152.000"
   ]
  },
  {
   "cell_type": "markdown",
   "metadata": {},
   "source": [
    "### Refferal Plan\n",
    "\n",
    "JIka new user ingin berlangganan dan memiliki Kode referral dan cocok dengan database maka pembayaran yang valid akan mendapatkan diskon 4%\n",
    "\n",
    "Example :\n",
    "-  Anoton adalah user baru yang ingin berlangganan PacFlix\n",
    "- Anotonio Ingin berlangganan \"Premium Plan\"\n",
    "- dia sudah memiliki teman yang sudah berlangganan di PacFLix Sehingga dia akan menggunakan kode referral\n",
    "- maka total akhir yang harus dibayarkan adalah\n",
    "\n",
    "Total = 200.000 - (200.000*0.04) = 192.000"
   ]
  },
  {
   "cell_type": "markdown",
   "metadata": {},
   "source": [
    "_____\n",
    "## B. Objective"
   ]
  },
  {
   "cell_type": "markdown",
   "metadata": {},
   "source": [
    "- Kita sebagai python programmer akan membuat simple program dari PacFlix\n",
    "- Membuat Fitur\n",
    "    - Check All Plan Yang tersedia di PacFlix\n",
    "    - Check Plan Yang sedang digunakan oleh Exsisting User\n",
    "    - Current User yang ingin upgrade dari current plan dan jika duration plan >12 bulan akan mendapatkan diskon\n",
    "    - New User yang ingin daftar PacFlix bisa mendapatkan Diskon Jika Menggunakan Kode Referral\n",
    "- Untuk membuat fitur itu kita bisa menggunakan data:\n",
    "    - USer Data yang dimana isinya terdapat :\n",
    "        _ user Name\n",
    "        - Active Plan\n",
    "        - Duration Plan\n",
    "        - Referral Code\n",
    "        "
   ]
  },
  {
   "cell_type": "markdown",
   "metadata": {},
   "source": [
    "____\n",
    "## C. Case Study"
   ]
  },
  {
   "cell_type": "markdown",
   "metadata": {},
   "source": [
    "### #Case 1 - Check Plan User\n",
    "- User Cahya ingin Mengecek Plan apa saja yang ada di PacFlix\n",
    "- Input :\n",
    "- Output :\n",
    "    plan apa yang tersedia (seperti yang di table)\n"
   ]
  },
  {
   "cell_type": "markdown",
   "metadata": {},
   "source": [
    "### #Case 2 - Check Active Plan User\n",
    "\n",
    "- User Shandy ingin memeriksa plan apa yang sedang aktif digunakan di PacFlix\n",
    "- Input :\n",
    "    - username\n",
    "\n",
    "- Output :\n",
    "    - username, plann yang dipakai, durasi plan"
   ]
  },
  {
   "cell_type": "markdown",
   "metadata": {},
   "source": [
    "### #Case 3 - Upgrade User\n",
    "\n",
    "- User Ana ingin upgrade dari current plan dan sudah berlangganan > 12 Bulan\n",
    "- Input :\n",
    "    - username, current plan, new plan\n",
    "\n",
    "- Output :\n",
    "    - total yang harus dibayarkan"
   ]
  },
  {
   "cell_type": "markdown",
   "metadata": {},
   "source": [
    "### #Case 4 - Refferal Code Member\n",
    "- User baru Faizal ingin daftar layanan PacFlixc, dia memilih standard Plan dasn menggunakan referral code dari user Bagus\n",
    "- Input :\n",
    "    - username, plan yang dipilih, referral code\n",
    "\n",
    "- Output :\n",
    "    - total yang harus dibayarkan"
   ]
  },
  {
   "cell_type": "markdown",
   "metadata": {},
   "source": [
    "___\n",
    "## D. Workflow"
   ]
  },
  {
   "cell_type": "code",
   "execution_count": 10,
   "metadata": {},
   "outputs": [
    {
     "data": {
      "image/png": "[encoded data removed]",
      "text/plain": [
       "<IPython.core.display.Image object>"
      ]
     },
     "metadata": {},
     "output_type": "display_data"
    }
   ],
   "source": [
    "from graphviz import Digraph\n",
    "from IPython.display import display, Image\n",
    "\n",
    "flow = Digraph(comment=\"Workflow Coding\")\n",
    "flow.attr(rankdir=\"LR\")  # Set direction to Left-to-Right\n",
    "\n",
    "# Define nodes\n",
    "flow.node(\"A\", \"Background\")\n",
    "flow.node(\"B\", \"Requirement\")\n",
    "flow.node(\"C\", \"Solution\")\n",
    "flow.node(\"D\", \"Pseudoscience\")\n",
    "flow.node(\"E\", \"Code\")\n",
    "flow.node(\"F\", \"Test Case\")\n",
    "flow.node(\"G\", \"GitHub\")\n",
    "\n",
    "# Define edges\n",
    "flow.edge(\"A\", \"B\")\n",
    "flow.edge(\"B\", \"C\")\n",
    "flow.edge(\"C\", \"D\")\n",
    "flow.edge(\"D\", \"E\")\n",
    "flow.edge(\"E\", \"F\")\n",
    "flow.edge(\"F\", \"G\")\n",
    "\n",
    "# Set format and render the flow diagram\n",
    "flow.format = \"png\"\n",
    "flow.render(\"workflow_diagram\")\n",
    "display(Image(\"workflow_diagram.png\"))\n"
   ]
  },
  {
   "cell_type": "markdown",
   "metadata": {},
   "source": [
    "# Start Coding\n"
   ]
  },
  {
   "cell_type": "code",
   "execution_count": 11,
   "metadata": {},
   "outputs": [],
   "source": [
    "# import library\n",
    "from tabulate import tabulate"
   ]
  },
  {
   "cell_type": "markdown",
   "metadata": {},
   "source": [
    "## Create Data"
   ]
  },
  {
   "cell_type": "code",
   "execution_count": 34,
   "metadata": {},
   "outputs": [],
   "source": [
    "data = { \n",
    "    \"Shandy\": [\"Basic Plan\", 12, \"shandy-2134\"],\n",
    "    \"Cahya\": [\"Standard Plan\", 24, \"cahya-abcd\"], \n",
    "    \"Ana\": [\"Premium Plan\", 5, \"ana-2f9g\"], \n",
    "    \"Bagus\": [\"Basic Plan\", 11, \"bagus-9f92\"]\n",
    "    }"
   ]
  },
  {
   "cell_type": "markdown",
   "metadata": {},
   "source": [
    "### Create User Class"
   ]
  },
  {
   "cell_type": "code",
   "execution_count": 37,
   "metadata": {},
   "outputs": [
    {
     "name": "stdout",
     "output_type": "stream",
     "text": [
      "User(username=Shandy, plan=Basic Plan, duration_plan=12, user_id=shandy-2134)\n",
      "User(username=Cahya, plan=Standard Plan, duration_plan=24, user_id=cahya-abcd)\n",
      "User(username=Ana, plan=Premium Plan, duration_plan=5, user_id=ana-2f9g)\n",
      "User(username=Bagus, plan=Basic Plan, duration_plan=11, user_id=bagus-9f92)\n"
     ]
    }
   ],
   "source": [
    "# Create User Class\n",
    "class User:\n",
    "    def __init__(self, name, plan, duration, user_id):\n",
    "        self.name = name\n",
    "        self.plan = plan\n",
    "        self.duration = duration\n",
    "        self.user_id = user_id\n",
    "\n",
    "    def __str__(self):\n",
    "        return f\"User(username={self.name}, plan={self.plan}, duration_plan={self.duration}, user_id={self.user_id})\"\n",
    "\n",
    "# Function to create User Instances from Data\n",
    "def create_users(data):\n",
    "    return {name: User(name, details[0], details[1], details[2]) for name, details in data.items()}\n",
    "\n",
    "# Create Users\n",
    "users = create_users(data)\n",
    "\n",
    "# Display Users\n",
    "for user in users.values():\n",
    "    print(user)\n"
   ]
  },
  {
   "cell_type": "markdown",
   "metadata": {},
   "source": [
    "### Create Object For User Class"
   ]
  },
  {
   "cell_type": "code",
   "execution_count": 40,
   "metadata": {},
   "outputs": [],
   "source": [
    "# Create Object for User Class\n",
    "user_1 = User(\"Shandy\", \"Basic Plan\", 12, \"shandy-2134\")\n",
    "\n"
   ]
  },
  {
   "cell_type": "code",
   "execution_count": 41,
   "metadata": {},
   "outputs": [
    {
     "name": "stdout",
     "output_type": "stream",
     "text": [
      "('Shandy', 12, 'Basic Plan')\n"
     ]
    }
   ],
   "source": [
    "# Check Attributes in Class\n",
    "user_attributes = (user_1.name, user_1.duration, user_1.plan)\n",
    "print(user_attributes)  # Output: ('Shandy', 12, 'Basic Plan')"
   ]
  },
  {
   "cell_type": "markdown",
   "metadata": {},
   "source": [
    "## Test Case - 1"
   ]
  },
  {
   "cell_type": "markdown",
   "metadata": {},
   "source": [
    "Buat Dictionary dan Print Tabel"
   ]
  },
  {
   "cell_type": "code",
   "execution_count": 60,
   "metadata": {},
   "outputs": [
    {
     "name": "stdout",
     "output_type": "stream",
     "text": [
      "                                         PacFlix Plan List                                          \n",
      "\n",
      "Basic Plan          Standard Plan            Premium Plan                                      Services            \n",
      "----------------------------------------------------------------------------------------------------\n",
      "True                True                     True                                              Bisa Stream         \n",
      "True                True                     True                                              Bisa Download       \n",
      "True                True                     True                                              Kualitas SD         \n",
      "False               True                     True                                              Kualitas HD         \n",
      "False               False                    True                                              Kualitas UHD        \n",
      "1                   2                        4                                                 Number of Devices   \n",
      "3rd Party Movie OnlyBasic Plan Content + SportsBasic Plan + Standard Plan + PacFlix Original SeriesJenis Konten        \n",
      "120000              160000                   200000                                            Harga               \n"
     ]
    }
   ],
   "source": [
    "# Membuat Plan di Paket PacFlix\n",
    "plans_data = {\n",
    "    \"Plans\": {\n",
    "        \"Basic Plan\": {\n",
    "            \"Bisa Stream\": True,\n",
    "            \"Bisa Download\": True,\n",
    "            \"Kualitas SD\": True,\n",
    "            \"Kualitas HD\": False,\n",
    "            \"Kualitas UHD\": False,\n",
    "            \"Number Of Devices\": 1,\n",
    "            \"Jenis Konten\": \"3rd Party Movie Only\",\n",
    "            \"Harga\": 120_000\n",
    "        },\n",
    "        \"Standard Plan\": {\n",
    "            \"Bisa Stream\": True,\n",
    "            \"Bisa Download\": True,\n",
    "            \"Kualitas SD\": True,\n",
    "            \"Kualitas HD\": True,\n",
    "            \"Kualitas UHD\": False,\n",
    "            \"Number Of Devices\": 2,\n",
    "            \"Jenis Konten\": \"Basic Plan Content + Sports\",\n",
    "            \"Harga\": 160_000\n",
    "        },\n",
    "        \"Premium Plan\": {\n",
    "            \"Bisa Stream\": True,\n",
    "            \"Bisa Download\": True,\n",
    "            \"Kualitas SD\": True,\n",
    "            \"Kualitas HD\": True,\n",
    "            \"Kualitas UHD\": True,\n",
    "            \"Number Of Devices\": 4,\n",
    "            \"Jenis Konten\": \"Basic Plan + Standard Plan + PacFlix Original Series\",\n",
    "            \"Harga\": 200_000\n",
    "        }\n",
    "    }\n",
    "}\n",
    "\n",
    "# Function untuk print table\n",
    "def print_plans(plans):\n",
    "    print(f\"{'PacFlix Plan List':^100}\")\n",
    "    print()\n",
    "    print(f\"{'Basic Plan':<20}{'Standard Plan':<25}{'Premium Plan':<50}{'Services':<20}\")\n",
    "    print(\"-\" * 100)\n",
    "    \n",
    "    # Menyusun Data Berdasarkan Atribut\n",
    "    attributes_list = [\n",
    "        ('Bisa Stream', 'Bisa Stream'),\n",
    "        ('Bisa Download', 'Bisa Download'),\n",
    "        ('Kualitas SD', 'Kualitas SD'),\n",
    "        ('Kualitas HD', 'Kualitas HD'),\n",
    "        ('Kualitas UHD', 'Kualitas UHD'),\n",
    "        ('Number Of Devices', 'Number of Devices'),\n",
    "        ('Jenis Konten', 'Jenis Konten'),\n",
    "        ('Harga', 'Harga')\n",
    "    ]\n",
    "    \n",
    "    for attribute, label in attributes_list:\n",
    "        values = [str(plans[plan][attribute]) for plan in plans]\n",
    "        print(f\"{values[0]:<20}{values[1]:<25}{values[2]:<50}{label:<20}\")\n",
    "\n",
    "# Cetak\n",
    "print_plans(plans_data[\"Plans\"])\n"
   ]
  },
  {
   "cell_type": "code",
   "execution_count": 61,
   "metadata": {},
   "outputs": [
    {
     "name": "stdout",
     "output_type": "stream",
     "text": [
      "Standard Plan\n",
      "24 Bulan\n",
      "\n",
      "Standard Plan PacFlix Benefit List\n",
      "Standard Plan                           Services            \n",
      "----------------------------------------------------------------------\n",
      "True                                    Bisa Stream         \n",
      "True                                    Bisa Download       \n",
      "True                                    Kualitas SD         \n",
      "True                                    Kualitas HD         \n",
      "False                                   Kualitas UHD        \n",
      "2                                       Number of Devices   \n",
      "Basic Plan Content + Sports             Jenis Konten        \n",
      "160000                                  Harga               \n"
     ]
    }
   ],
   "source": [
    "def print_standard_plan_details(plan_name):\n",
    "    plan = plans_data[\"Plans\"][plan_name]\n",
    "    print(f\"{plan_name}\")\n",
    "    print(\"24 Bulan\")\n",
    "    print()\n",
    "    print(f\"{plan_name} PacFlix Benefit List\")\n",
    "    print(f\"{'Standard Plan':<40}{'Services':<20}\")\n",
    "    print(\"-\" * 70)\n",
    "\n",
    "    attributes_list = [\n",
    "        ('Bisa Stream', 'Bisa Stream'),\n",
    "        ('Bisa Download', 'Bisa Download'),\n",
    "        ('Kualitas SD', 'Kualitas SD'),\n",
    "        ('Kualitas HD', 'Kualitas HD'),\n",
    "        ('Kualitas UHD', 'Kualitas UHD'),\n",
    "        ('Number Of Devices', 'Number of Devices'),\n",
    "        ('Jenis Konten', 'Jenis Konten'),\n",
    "        ('Harga', 'Harga')\n",
    "    ]\n",
    "    \n",
    "    for attribute, label in attributes_list:\n",
    "        value = str(plan[attribute])\n",
    "        print(f\"{value:<40}{label:<20}\")\n",
    "\n",
    "# Cetak detail untuk Standard Plan\n",
    "print_standard_plan_details(\"Standard Plan\")"
   ]
  },
  {
   "cell_type": "code",
   "execution_count": 64,
   "metadata": {},
   "outputs": [
    {
     "name": "stdout",
     "output_type": "stream",
     "text": [
      "152000\n"
     ]
    }
   ],
   "source": [
    "# Total yang harus dibayarkan untuk Ana yang sudah berlangganan lebih dari 12 bulan\n",
    "# Jadi anggap dia mau upgrade dari Premium Plan ke Standard Plan\n",
    "# Harga Standard Plan adalah 160000, dan dia mendapatkan diskon 5% karena sudah berlangganan lebih dari 12 bulan\n",
    "\n",
    "def upgrade_plan_ana():\n",
    "    # Harga Standard Plan\n",
    "    new_price = 160000\n",
    "    # Diskon 5%\n",
    "    final_price = new_price * 0.95  # Diskon\n",
    "    print(f\"{final_price:.0f}\")\n",
    "\n",
    "# Panggil fungsi untuk Ana\n",
    "upgrade_plan_ana()  # Ini akan menghasilkan output 190000\n"
   ]
  },
  {
   "cell_type": "markdown",
   "metadata": {},
   "source": [
    "### Create New User Object"
   ]
  },
  {
   "cell_type": "code",
   "execution_count": 66,
   "metadata": {},
   "outputs": [],
   "source": [
    "##Membuat kelas new user object\n",
    "# Kelas NewUser\n",
    "class NewUser:\n",
    "    def __init__(self, username):\n",
    "        self.username = username\n",
    "\n",
    "    def convert_data_to_list(self, user_data):\n",
    "        # Menggabungkan data pengguna menjadi list\n",
    "        return [item for sublist in user_data.values() for item in sublist]"
   ]
  },
  {
   "cell_type": "code",
   "execution_count": 67,
   "metadata": {},
   "outputs": [],
   "source": [
    "# Create New User Object\n",
    "faizal = NewUser(\"faizal_icikiwir\")"
   ]
  },
  {
   "cell_type": "code",
   "execution_count": 68,
   "metadata": {},
   "outputs": [],
   "source": [
    "# Convert Data to List\n",
    "user_data_list = faizal.convert_data_to_list(data)"
   ]
  },
  {
   "cell_type": "code",
   "execution_count": 69,
   "metadata": {},
   "outputs": [
    {
     "name": "stdout",
     "output_type": "stream",
     "text": [
      "['Basic Plan', 12, 'shandy-2134', 'Standard Plan', 24, 'cahya-abcd', 'Premium Plan', 5, 'ana-2f9g', 'Basic Plan', 11, 'bagus-9f92']\n"
     ]
    }
   ],
   "source": [
    "# Output data pengguna dalam bentuk list\n",
    "print(user_data_list)"
   ]
  },
  {
   "cell_type": "code",
   "execution_count": 70,
   "metadata": {},
   "outputs": [
    {
     "name": "stdout",
     "output_type": "stream",
     "text": [
      "153600.0\n"
     ]
    }
   ],
   "source": [
    "# Fungsi untuk menghitung total berdasarkan referral code\n",
    "def calculate_total_with_referral(username, plan, referral_code):\n",
    "    # Harga berdasarkan pilihan plan\n",
    "    plan_prices = {\n",
    "        \"Basic Plan\": 120000,\n",
    "        \"Standard Plan\": 160000,\n",
    "        \"Premium Plan\": 200000\n",
    "    }\n",
    "    \n",
    "    if plan not in plan_prices:\n",
    "        return \"Invalid Plan\"\n",
    "    \n",
    "    # Mendapatkan harga untuk plan yang dipilih\n",
    "    new_price = plan_prices[plan]\n",
    "    \n",
    "    # Diskon referral code 4%\n",
    "    discount = new_price * 0.04\n",
    "    \n",
    "    # Total setelah diskon\n",
    "    total = new_price - discount\n",
    "    return total\n",
    "\n",
    "# Input untuk Faizal\n",
    "faizal_username = \"faizal_icikiwir\"\n",
    "faizal_plan = \"Standard Plan\"\n",
    "faizal_referral_code = \"bagus-9f92\"  # Referral code dari Bagus\n",
    "\n",
    "# Hitung total yang harus dibayarkan oleh Faizal\n",
    "total_cost_faizal = calculate_total_with_referral(faizal_username, faizal_plan, faizal_referral_code)\n",
    "\n",
    "# Output total biaya\n",
    "print(total_cost_faizal)  # Output: 153600.0"
   ]
  },
  {
   "cell_type": "code",
   "execution_count": null,
   "metadata": {},
   "outputs": [],
   "source": []
  }
 ],
 "metadata": {
  "kernelspec": {
   "display_name": "base",
   "language": "python",
   "name": "python3"
  },
  "language_info": {
   "codemirror_mode": {
    "name": "ipython",
    "version": 3
   },
   "file_extension": ".py",
   "mimetype": "text/x-python",
   "name": "python",
   "nbconvert_exporter": "python",
   "pygments_lexer": "ipython3",
   "version": "3.11.3"
  }
 },
 "nbformat": 4,
 "nbformat_minor": 2
}
